{
 "cells": [
  {
   "cell_type": "code",
   "execution_count": 1,
   "id": "3ffd96d0-0c68-47aa-b1ff-6261483336ac",
   "metadata": {},
   "outputs": [],
   "source": [
    "def process_data(input_string):\n",
    "    # Reverse the input string\n",
    "    reversed_string = input_string[::-1]\n",
    "    # Create a response message\n",
    "    response_message = f\"The reversed string is223: {reversed_string}\"\n",
    "    return response_message\n",
    "\n",
    "\n",
    "    "
   ]
  },
  {
   "cell_type": "code",
   "execution_count": null,
   "id": "ea5f8936-b66c-4d3b-9ba2-5544b6a5d69a",
   "metadata": {},
   "outputs": [],
   "source": []
  },
  {
   "cell_type": "code",
   "execution_count": null,
   "id": "1dac182d-4756-4ce9-b385-d83206c4a641",
   "metadata": {},
   "outputs": [],
   "source": []
  }
 ],
 "metadata": {
  "kernelspec": {
   "display_name": "Python 3.10.11 64-bit (microsoft store)",
   "language": "python",
   "name": "python3"
  },
  "language_info": {
   "codemirror_mode": {
    "name": "ipython",
    "version": 3
   },
   "file_extension": ".py",
   "mimetype": "text/x-python",
   "name": "python",
   "nbconvert_exporter": "python",
   "pygments_lexer": "ipython3",
   "version": "3.10.11"
  },
  "vscode": {
   "interpreter": {
    "hash": "40ea231ce006ed65b013ba3e9b5a48267321b4d32b910ea3a649228a606377c3"
   }
  }
 },
 "nbformat": 4,
 "nbformat_minor": 5
}
